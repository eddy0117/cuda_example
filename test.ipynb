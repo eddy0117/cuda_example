{
 "cells": [
  {
   "cell_type": "code",
   "execution_count": 1,
   "metadata": {},
   "outputs": [
    {
     "name": "stdout",
     "output_type": "stream",
     "text": [
      "torch add time:  0.2758677005767822\n",
      "torch_ext_test.my_func time:  0.3847625255584717\n"
     ]
    }
   ],
   "source": [
    "import torch\n",
    "import torch_ext_test\n",
    "import time\n",
    "import numpy as np\n",
    "\n",
    "torch.random.manual_seed(0)\n",
    "my_func = torch_ext_test.my_func\n",
    "\n",
    "torch.set_printoptions(sci_mode=False)\n",
    "a = torch.randn((100, 100, 100))\n",
    "b = torch.randn((100, 100, 100))\n",
    "# a = torch.ones((100, 100, 100), dtype=torch.float32) * 1\n",
    "# b = torch.ones((100, 100, 100), dtype=torch.float32) * 128\n",
    "# # a_cpu = a.cpu() \n",
    "# b_cpu = b.cpu()\n",
    "\n",
    "\n",
    "\n",
    "t0 = time.time()\n",
    "for _ in range(10000):\n",
    "    a + b\n",
    "\n",
    "print(\"torch add time: \", time.time() - t0)\n",
    "\n",
    "a = a.cuda()\n",
    "b = b.cuda()\n",
    "t0 = time.time()\n",
    "for _ in range(10000):\n",
    "    my_func(a, b)\n",
    "\n",
    "print(\"torch_ext_test.my_func time: \", time.time() - t0)"
   ]
  },
  {
   "cell_type": "code",
   "execution_count": 2,
   "metadata": {},
   "outputs": [
    {
     "data": {
      "text/plain": [
       "True"
      ]
     },
     "execution_count": 2,
     "metadata": {},
     "output_type": "execute_result"
    }
   ],
   "source": [
    "torch.allclose(a + b, my_func(a, b))"
   ]
  },
  {
   "attachments": {
    "image.png": {
     "image/png": "[encoded data removed]"
    }
   },
   "cell_type": "markdown",
   "metadata": {},
   "source": [
    "![image.png](attachment:image.png)"
   ]
  },
  {
   "cell_type": "code",
   "execution_count": 3,
   "metadata": {},
   "outputs": [
    {
     "name": "stdout",
     "output_type": "stream",
     "text": [
      "torch F.linear time:  0.78448486328125\n"
     ]
    }
   ],
   "source": [
    "import torch.nn.functional as F\n",
    "\n",
    "# x = torch.randn(2, 10, 10, 100, dtype=torch.float32).cuda()\n",
    "# w = torch.randn(100, 100, dtype=torch.float32).cuda()\n",
    "\n",
    "x = torch.ones((2, 10, 10, 100), dtype=torch.float32).cuda() * 3\n",
    "w = torch.ones((100, 100), dtype=torch.float32).cuda()\n",
    "\n",
    "t0 = time.time()\n",
    "for _ in range(10000):\n",
    "    F.linear(x, w)\n",
    "print(\"torch F.linear time: \", time.time() - t0)"
   ]
  },
  {
   "cell_type": "code",
   "execution_count": 4,
   "metadata": {},
   "outputs": [
    {
     "data": {
      "text/plain": [
       "tensor([[ 9., 12., 15.],\n",
       "        [19., 26., 33.]], device='cuda:0')"
      ]
     },
     "execution_count": 4,
     "metadata": {},
     "output_type": "execute_result"
    }
   ],
   "source": [
    "a = torch.Tensor([[1, 2], [3, 4]]).cuda()\n",
    "b = torch.Tensor([[1, 2, 3], [4, 5, 6]]).cuda()\n",
    "\n",
    "torch_ext_test.my_func_mm(a, b)"
   ]
  },
  {
   "cell_type": "code",
   "execution_count": 1,
   "metadata": {},
   "outputs": [
    {
     "name": "stdout",
     "output_type": "stream",
     "text": [
      "torch mat time:  0.3759801387786865\n",
      "torch_ext_test.my_func_mm time:  0.05165219306945801\n"
     ]
    }
   ],
   "source": [
    "import torch\n",
    "import torch_ext_test\n",
    "import time\n",
    "import numpy as np\n",
    "\n",
    "torch.random.manual_seed(0)\n",
    "my_func_mm = torch_ext_test.my_func_mm\n",
    "\n",
    "torch.set_printoptions(sci_mode=False)\n",
    "a = torch.randn((100, 100)).cuda()\n",
    "b = torch.randn((100, 100)).cuda()\n",
    "\n",
    "\n",
    "\n",
    "t0 = time.time()\n",
    "for _ in range(10000):\n",
    "    torch.matmul(a, b)\n",
    "\n",
    "print(\"torch mat time: \", time.time() - t0)\n",
    "\n",
    "a = a.cuda()\n",
    "b = b.cuda()\n",
    "t0 = time.time()\n",
    "for _ in range(10000):\n",
    "    my_func_mm(a, b)\n",
    "\n",
    "print(\"torch_ext_test.my_func_mm time: \", time.time() - t0)"
   ]
  },
  {
   "cell_type": "code",
   "execution_count": 2,
   "metadata": {},
   "outputs": [
    {
     "data": {
      "text/plain": [
       "tensor([[[30., 36., 42.],\n",
       "         [66., 81., 96.]],\n",
       "\n",
       "        [[54., 69., 84.],\n",
       "         [18., 24., 30.]]], device='cuda:0')"
      ]
     },
     "execution_count": 2,
     "metadata": {},
     "output_type": "execute_result"
    }
   ],
   "source": [
    "\n",
    "\n",
    "A = torch.Tensor([[[1, 2, 3], [4, 5, 6]], [[6, 5, 4], [3, 2, 1]]]).cuda()\n",
    "B = torch.Tensor([[1, 2, 3], [4, 5, 6], [7, 8, 9]]).cuda()\n",
    "B_T = B.T\n",
    "bias = torch.Tensor([[0.5, 0.6, 0.7]]).cuda()\n",
    "\n",
    "torch_ext_test.my_func_mm_bc(A, B)"
   ]
  },
  {
   "cell_type": "code",
   "execution_count": 23,
   "metadata": {},
   "outputs": [
    {
     "data": {
      "text/plain": [
       "tensor([[[30., 36., 42.],\n",
       "         [66., 81., 96.]],\n",
       "\n",
       "        [[54., 69., 84.],\n",
       "         [18., 24., 30.]]], device='cuda:0')"
      ]
     },
     "execution_count": 23,
     "metadata": {},
     "output_type": "execute_result"
    }
   ],
   "source": [
    "F.linear(A, B_T)"
   ]
  },
  {
   "cell_type": "code",
   "execution_count": 4,
   "metadata": {},
   "outputs": [
    {
     "name": "stdout",
     "output_type": "stream",
     "text": [
      "True\n",
      "torch_ext_test.my_func_mm_bc time:  0.0005195140838623047\n",
      "torch F.linear time:  0.0009760856628417969\n"
     ]
    },
    {
     "data": {
      "text/plain": [
       "torch.Size([1, 900, 512])"
      ]
     },
     "execution_count": 4,
     "metadata": {},
     "output_type": "execute_result"
    }
   ],
   "source": [
    "import torch\n",
    "import torch_ext_test\n",
    "import torch.nn.functional as F\n",
    "import time\n",
    "\n",
    "A = torch.randn((1, 900, 512)).cuda()\n",
    "B = torch.randn((512, 512)).cuda()\n",
    "bias = torch.randn((512)).cuda()\n",
    "B_T = B.T\n",
    "\n",
    "print(torch.allclose(F.linear(A, B.T, bias), torch_ext_test.my_func_mm_bc(A, B, bias), rtol=1e-4, atol=1e-4))\n",
    "\n",
    "import time\n",
    "import torch.nn.functional as F\n",
    "t0 = time.time()\n",
    "for _ in range(100):\n",
    "    torch_ext_test.my_func_mm_bc(A, B, bias)\n",
    "print(\"torch_ext_test.my_func_mm_bc time: \", time.time() - t0)\n",
    "\n",
    "t0 = time.time()\n",
    "for _ in range(100):\n",
    "    F.linear(A, B_T)\n",
    "print(\"torch F.linear time: \", time.time() - t0)\n",
    "torch_ext_test.my_func_mm_bc(A, B, bias).shape"
   ]
  },
  {
   "cell_type": "code",
   "execution_count": 4,
   "metadata": {},
   "outputs": [
    {
     "data": {
      "text/plain": [
       "(array([0, 0, 0, ..., 0, 0, 0]),\n",
       " array([  0,   0,   0, ..., 899, 899, 899]),\n",
       " array([  0,   1,   2, ..., 253, 254, 255]))"
      ]
     },
     "execution_count": 4,
     "metadata": {},
     "output_type": "execute_result"
    }
   ],
   "source": [
    "import numpy as np\n",
    "np.where(F.linear(A, B_T).cpu().numpy() != torch_ext_test.my_func_mm_bc(A, B.T, bias).cpu().numpy())"
   ]
  },
  {
   "cell_type": "code",
   "execution_count": 5,
   "metadata": {},
   "outputs": [
    {
     "data": {
      "text/plain": [
       "tensor(9.1553e-05, device='cuda:0')"
      ]
     },
     "execution_count": 5,
     "metadata": {},
     "output_type": "execute_result"
    }
   ],
   "source": [
    "torch.max(torch.abs(F.linear(A, B_T) - torch_ext_test.my_func_mm_bc(A, B, bias)))"
   ]
  },
  {
   "cell_type": "code",
   "execution_count": 4,
   "metadata": {},
   "outputs": [
    {
     "data": {
      "text/plain": [
       "tensor([[[ 9., 12., 15.],\n",
       "         [19., 26., 33.]],\n",
       "\n",
       "        [[29., 40., 51.],\n",
       "         [39., 54., 69.]]], device='cuda:0')"
      ]
     },
     "execution_count": 4,
     "metadata": {},
     "output_type": "execute_result"
    }
   ],
   "source": [
    "a = torch.Tensor([[[1, 2], [3, 4]], [[5, 6], [7, 8]]]).cuda()\n",
    "b = torch.Tensor([[1, 2, 3], [4, 5, 6]]).cuda()\n",
    "bias = torch.zeros_like(b)\n",
    "torch_ext_test.my_func_mm_bc(a, b, bias)"
   ]
  },
  {
   "cell_type": "code",
   "execution_count": 2,
   "metadata": {},
   "outputs": [
    {
     "data": {
      "text/plain": [
       "torch.Size([5, 10])"
      ]
     },
     "execution_count": 2,
     "metadata": {},
     "output_type": "execute_result"
    }
   ],
   "source": [
    "import torch\n",
    "import torch_ext_test\n",
    "import torch.nn.functional as F\n",
    "\n",
    "x = torch.randn((5, 10)).cuda()\n",
    "w = torch.randn(10, 10).cuda()\n",
    "\n",
    "\n",
    "F.linear(x, w).shape"
   ]
  },
  {
   "cell_type": "code",
   "execution_count": 10,
   "metadata": {},
   "outputs": [
    {
     "data": {
      "text/plain": [
       "tensor([[126., 126.],\n",
       "        [  2.,   2.]], device='cuda:0')"
      ]
     },
     "execution_count": 10,
     "metadata": {},
     "output_type": "execute_result"
    }
   ],
   "source": [
    "x = torch.tensor([[127, 2], [5, 4]], dtype=torch.float).cuda()\n",
    "w = torch.tensor([[1, -1], [1, -1]], dtype=torch.float).cuda()\n",
    "b = torch.tensor([1, 1], dtype=torch.float).cuda()\n",
    "\n",
    "x_8 = torch.tensor([[127, 2], [5, 4]], dtype=torch.int8).cuda()\n",
    "w_8 = torch.tensor([[1, -1], [1, -1]], dtype=torch.int8).cuda()\n",
    "b_8 = torch.tensor([1, 1], dtype=torch.int8).cuda()\n",
    "\n",
    "\n",
    "\n",
    "F.linear(x, w, b)"
   ]
  },
  {
   "cell_type": "code",
   "execution_count": 42,
   "metadata": {},
   "outputs": [
    {
     "name": "stdout",
     "output_type": "stream",
     "text": [
      "torch F.linear time:  2.174210548400879e-05\n",
      "torch_ext_test.my_func_mm_bc_add time:  7.892251014709472e-05\n",
      "torch_ext_test.my_func_mm_bc time:  0.1057291030883789\n"
     ]
    }
   ],
   "source": [
    "import numpy as np\n",
    "import torch\n",
    "import torch_ext_test\n",
    "import torch.nn.functional as F\n",
    "import time\n",
    "\n",
    "x_o = np.random.randint(-126, 126, (1, 900, 512))\n",
    "w_o = np.ones((512, 512))\n",
    "b_o = np.ones((512))\n",
    "\n",
    "x_8 = torch.tensor(x_o, dtype=torch.float32).cuda()\n",
    "w_8 = torch.tensor(w_o, dtype=torch.float32).cuda()\n",
    "b_8 = torch.tensor(b_o, dtype=torch.float32).cuda()\n",
    "\n",
    "x = torch.tensor(x_o, dtype=torch.float32).cuda()\n",
    "w = torch.tensor(w_o, dtype=torch.float32).cuda()\n",
    "b = torch.tensor(b_o, dtype=torch.float32).cuda()\n",
    "\n",
    "\n",
    "\n",
    "\n",
    "avg_cost_time = 0\n",
    "for _ in range(1000):\n",
    "    t0 = time.time()\n",
    "    out_F = F.linear(x, w, b)\n",
    "    avg_cost_time += time.time() - t0\n",
    "print(\"torch F.linear time: \", avg_cost_time / 1000)\n",
    "\n",
    "avg_cost_time = 0\n",
    "for _ in range(1000):\n",
    "    t0 = time.time()\n",
    "    out_my = torch_ext_test.my_func_mm_bc_add(x_8, w_8, b_8)\n",
    "    avg_cost_time += time.time() - t0\n",
    "print(\"torch_ext_test.my_func_mm_bc_add time: \", avg_cost_time / 1000)\n",
    "\n",
    "t0 = time.time()\n",
    "for _ in range(1000):\n",
    "    out_my = torch_ext_test.my_func_mm_bc(x, w, b)\n",
    "print(\"torch_ext_test.my_func_mm_bc time: \", time.time() - t0)\n"
   ]
  },
  {
   "cell_type": "code",
   "execution_count": 8,
   "metadata": {},
   "outputs": [
    {
     "name": "stderr",
     "output_type": "stream",
     "text": [
      "/tmp/ipykernel_9592/2381930072.py:1: UserWarning: To copy construct from a tensor, it is recommended to use sourceTensor.clone().detach() or sourceTensor.clone().detach().requires_grad_(True), rather than torch.tensor(sourceTensor).\n",
      "  torch.allclose(out_F, torch.tensor(out_my, dtype=torch.float32), rtol=1e-5, atol=1e-5)\n"
     ]
    },
    {
     "data": {
      "text/plain": [
       "True"
      ]
     },
     "execution_count": 8,
     "metadata": {},
     "output_type": "execute_result"
    }
   ],
   "source": [
    "torch.allclose(out_F, torch.tensor(out_my, dtype=torch.float32), rtol=1e-5, atol=1e-5)\n",
    "# out_my.shape"
   ]
  },
  {
   "cell_type": "code",
   "execution_count": 13,
   "metadata": {},
   "outputs": [
    {
     "data": {
      "text/plain": [
       "tensor([[ 2382.,  2382.,  2382.,  ...,  2382.,  2382.,  2382.],\n",
       "        [-1085., -1085., -1085.,  ..., -1085., -1085., -1085.],\n",
       "        [-2312., -2312., -2312.,  ..., -2312., -2312., -2312.],\n",
       "        ...,\n",
       "        [ 1276.,  1276.,  1276.,  ...,  1276.,  1276.,  1276.],\n",
       "        [ 1062.,  1062.,  1062.,  ...,  1062.,  1062.,  1062.],\n",
       "        [-1878., -1878., -1878.,  ..., -1878., -1878., -1878.]],\n",
       "       device='cuda:0')"
      ]
     },
     "execution_count": 13,
     "metadata": {},
     "output_type": "execute_result"
    }
   ],
   "source": [
    "out_my[0]\n"
   ]
  }
 ],
 "metadata": {
  "kernelspec": {
   "display_name": "sparsedrive",
   "language": "python",
   "name": "python3"
  },
  "language_info": {
   "codemirror_mode": {
    "name": "ipython",
    "version": 3
   },
   "file_extension": ".py",
   "mimetype": "text/x-python",
   "name": "python",
   "nbconvert_exporter": "python",
   "pygments_lexer": "ipython3",
   "version": "3.8.19"
  }
 },
 "nbformat": 4,
 "nbformat_minor": 2
}
